{
  "nbformat": 4,
  "nbformat_minor": 0,
  "metadata": {
    "colab": {
      "name": "IAPV Supervised Learning Project.ipynb",
      "provenance": [],
      "collapsed_sections": [],
      "include_colab_link": true
    },
    "kernelspec": {
      "name": "python3",
      "display_name": "Python 3"
    }
  },
  "cells": [
    {
      "cell_type": "markdown",
      "metadata": {
        "id": "view-in-github",
        "colab_type": "text"
      },
      "source": [
        "<a href=\"https://colab.research.google.com/github/diamondleng/Inaccessible-pore-volume/blob/main/IAPV_Supervised_Learning_Project.ipynb\" target=\"_parent\"><img src=\"https://colab.research.google.com/assets/colab-badge.svg\" alt=\"Open In Colab\"/></a>"
      ]
    },
    {
      "cell_type": "markdown",
      "metadata": {
        "id": "R88Ms0MTi0Ma"
      },
      "source": [
        "# IAPV Prediction\n"
      ]
    },
    {
      "cell_type": "markdown",
      "metadata": {
        "id": "WA6lL1fni0Mb"
      },
      "source": [
        "In this project, we use supervised learning models to build a regression model for IAPV. Furthermore, we will analyze top factors that influence the treatment result. [Dataset information](https://drive.google.com/file/d/13XfQiUvm_nylzBhK23MKRVsYm2ZZlCwq/view?usp=sharing)."
      ]
    },
    {
      "cell_type": "markdown",
      "metadata": {
        "id": "bO94-bXZi0Md"
      },
      "source": [
        "## Contents"
      ]
    },
    {
      "cell_type": "markdown",
      "metadata": {
        "id": "SIvRSRqAi0Md"
      },
      "source": [
        "\n",
        "* [Part 1: Data Exploration](#Part-1:-Data-Exploration)\n",
        "* [Part 2: Feature Preprocessing](#Part-2:-Feature-Preprocessing)\n",
        "* [Part 3: Model Training and Results Evaluation](#Part-3:-Model-Training-and-Result-Evaluation)"
      ]
    },
    {
      "cell_type": "markdown",
      "metadata": {
        "id": "TUoI2S7Bi6iR"
      },
      "source": [
        "# Part 0: Setup Google Drive Environment / Data Collection\n",
        "check this [link](https://colab.research.google.com/notebooks/io.ipynb) for more info"
      ]
    },
    {
      "cell_type": "code",
      "metadata": {
        "id": "nK7A1qhYSDxM",
        "colab": {
          "base_uri": "https://localhost:8080/",
          "height": 206
        },
        "outputId": "8a0b52ae-8dd7-4eb6-8938-facf1ebe4031"
      },
      "source": [
        "import pandas as pd\n",
        "df = pd.read_csv('Dataforlearning_IAPV.csv')\n",
        "df.head()"
      ],
      "execution_count": null,
      "outputs": [
        {
          "output_type": "execute_result",
          "data": {
            "text/plain": [
              "   IPV, %  Ka, md  Porosity  Mole Weight, MMdalton  Concentration, ppm  \\\n",
              "0     1.8     300      0.18                    2.0                 943   \n",
              "1     4.0      90      0.16                    7.0                1000   \n",
              "2     6.0      30      0.18                    2.0                 943   \n",
              "3     9.0    1600      0.25                    2.0                1560   \n",
              "4    10.0    2000      0.25                   20.0                1000   \n",
              "\n",
              "   Resistance Factor  Frr  Retention, ug/g  Flow Velocity, ft/D  \n",
              "0              10.05  1.0            42.83                  0.1  \n",
              "1              10.41  1.0            43.82                 10.0  \n",
              "2              10.05  1.0            92.00                  0.1  \n",
              "3              14.05  1.0            54.82                  5.0  \n",
              "4              10.41  1.0            43.82                  5.0  "
            ],
            "text/html": [
              "\n",
              "  <div id=\"df-fbcad52b-6292-4588-a58e-620f2799d95c\">\n",
              "    <div class=\"colab-df-container\">\n",
              "      <div>\n",
              "<style scoped>\n",
              "    .dataframe tbody tr th:only-of-type {\n",
              "        vertical-align: middle;\n",
              "    }\n",
              "\n",
              "    .dataframe tbody tr th {\n",
              "        vertical-align: top;\n",
              "    }\n",
              "\n",
              "    .dataframe thead th {\n",
              "        text-align: right;\n",
              "    }\n",
              "</style>\n",
              "<table border=\"1\" class=\"dataframe\">\n",
              "  <thead>\n",
              "    <tr style=\"text-align: right;\">\n",
              "      <th></th>\n",
              "      <th>IPV, %</th>\n",
              "      <th>Ka, md</th>\n",
              "      <th>Porosity</th>\n",
              "      <th>Mole Weight, MMdalton</th>\n",
              "      <th>Concentration, ppm</th>\n",
              "      <th>Resistance Factor</th>\n",
              "      <th>Frr</th>\n",
              "      <th>Retention, ug/g</th>\n",
              "      <th>Flow Velocity, ft/D</th>\n",
              "    </tr>\n",
              "  </thead>\n",
              "  <tbody>\n",
              "    <tr>\n",
              "      <th>0</th>\n",
              "      <td>1.8</td>\n",
              "      <td>300</td>\n",
              "      <td>0.18</td>\n",
              "      <td>2.0</td>\n",
              "      <td>943</td>\n",
              "      <td>10.05</td>\n",
              "      <td>1.0</td>\n",
              "      <td>42.83</td>\n",
              "      <td>0.1</td>\n",
              "    </tr>\n",
              "    <tr>\n",
              "      <th>1</th>\n",
              "      <td>4.0</td>\n",
              "      <td>90</td>\n",
              "      <td>0.16</td>\n",
              "      <td>7.0</td>\n",
              "      <td>1000</td>\n",
              "      <td>10.41</td>\n",
              "      <td>1.0</td>\n",
              "      <td>43.82</td>\n",
              "      <td>10.0</td>\n",
              "    </tr>\n",
              "    <tr>\n",
              "      <th>2</th>\n",
              "      <td>6.0</td>\n",
              "      <td>30</td>\n",
              "      <td>0.18</td>\n",
              "      <td>2.0</td>\n",
              "      <td>943</td>\n",
              "      <td>10.05</td>\n",
              "      <td>1.0</td>\n",
              "      <td>92.00</td>\n",
              "      <td>0.1</td>\n",
              "    </tr>\n",
              "    <tr>\n",
              "      <th>3</th>\n",
              "      <td>9.0</td>\n",
              "      <td>1600</td>\n",
              "      <td>0.25</td>\n",
              "      <td>2.0</td>\n",
              "      <td>1560</td>\n",
              "      <td>14.05</td>\n",
              "      <td>1.0</td>\n",
              "      <td>54.82</td>\n",
              "      <td>5.0</td>\n",
              "    </tr>\n",
              "    <tr>\n",
              "      <th>4</th>\n",
              "      <td>10.0</td>\n",
              "      <td>2000</td>\n",
              "      <td>0.25</td>\n",
              "      <td>20.0</td>\n",
              "      <td>1000</td>\n",
              "      <td>10.41</td>\n",
              "      <td>1.0</td>\n",
              "      <td>43.82</td>\n",
              "      <td>5.0</td>\n",
              "    </tr>\n",
              "  </tbody>\n",
              "</table>\n",
              "</div>\n",
              "      <button class=\"colab-df-convert\" onclick=\"convertToInteractive('df-fbcad52b-6292-4588-a58e-620f2799d95c')\"\n",
              "              title=\"Convert this dataframe to an interactive table.\"\n",
              "              style=\"display:none;\">\n",
              "        \n",
              "  <svg xmlns=\"http://www.w3.org/2000/svg\" height=\"24px\"viewBox=\"0 0 24 24\"\n",
              "       width=\"24px\">\n",
              "    <path d=\"M0 0h24v24H0V0z\" fill=\"none\"/>\n",
              "    <path d=\"M18.56 5.44l.94 2.06.94-2.06 2.06-.94-2.06-.94-.94-2.06-.94 2.06-2.06.94zm-11 1L8.5 8.5l.94-2.06 2.06-.94-2.06-.94L8.5 2.5l-.94 2.06-2.06.94zm10 10l.94 2.06.94-2.06 2.06-.94-2.06-.94-.94-2.06-.94 2.06-2.06.94z\"/><path d=\"M17.41 7.96l-1.37-1.37c-.4-.4-.92-.59-1.43-.59-.52 0-1.04.2-1.43.59L10.3 9.45l-7.72 7.72c-.78.78-.78 2.05 0 2.83L4 21.41c.39.39.9.59 1.41.59.51 0 1.02-.2 1.41-.59l7.78-7.78 2.81-2.81c.8-.78.8-2.07 0-2.86zM5.41 20L4 18.59l7.72-7.72 1.47 1.35L5.41 20z\"/>\n",
              "  </svg>\n",
              "      </button>\n",
              "      \n",
              "  <style>\n",
              "    .colab-df-container {\n",
              "      display:flex;\n",
              "      flex-wrap:wrap;\n",
              "      gap: 12px;\n",
              "    }\n",
              "\n",
              "    .colab-df-convert {\n",
              "      background-color: #E8F0FE;\n",
              "      border: none;\n",
              "      border-radius: 50%;\n",
              "      cursor: pointer;\n",
              "      display: none;\n",
              "      fill: #1967D2;\n",
              "      height: 32px;\n",
              "      padding: 0 0 0 0;\n",
              "      width: 32px;\n",
              "    }\n",
              "\n",
              "    .colab-df-convert:hover {\n",
              "      background-color: #E2EBFA;\n",
              "      box-shadow: 0px 1px 2px rgba(60, 64, 67, 0.3), 0px 1px 3px 1px rgba(60, 64, 67, 0.15);\n",
              "      fill: #174EA6;\n",
              "    }\n",
              "\n",
              "    [theme=dark] .colab-df-convert {\n",
              "      background-color: #3B4455;\n",
              "      fill: #D2E3FC;\n",
              "    }\n",
              "\n",
              "    [theme=dark] .colab-df-convert:hover {\n",
              "      background-color: #434B5C;\n",
              "      box-shadow: 0px 1px 3px 1px rgba(0, 0, 0, 0.15);\n",
              "      filter: drop-shadow(0px 1px 2px rgba(0, 0, 0, 0.3));\n",
              "      fill: #FFFFFF;\n",
              "    }\n",
              "  </style>\n",
              "\n",
              "      <script>\n",
              "        const buttonEl =\n",
              "          document.querySelector('#df-fbcad52b-6292-4588-a58e-620f2799d95c button.colab-df-convert');\n",
              "        buttonEl.style.display =\n",
              "          google.colab.kernel.accessAllowed ? 'block' : 'none';\n",
              "\n",
              "        async function convertToInteractive(key) {\n",
              "          const element = document.querySelector('#df-fbcad52b-6292-4588-a58e-620f2799d95c');\n",
              "          const dataTable =\n",
              "            await google.colab.kernel.invokeFunction('convertToInteractive',\n",
              "                                                     [key], {});\n",
              "          if (!dataTable) return;\n",
              "\n",
              "          const docLinkHtml = 'Like what you see? Visit the ' +\n",
              "            '<a target=\"_blank\" href=https://colab.research.google.com/notebooks/data_table.ipynb>data table notebook</a>'\n",
              "            + ' to learn more about interactive tables.';\n",
              "          element.innerHTML = '';\n",
              "          dataTable['output_type'] = 'display_data';\n",
              "          await google.colab.output.renderOutput(dataTable, element);\n",
              "          const docLink = document.createElement('div');\n",
              "          docLink.innerHTML = docLinkHtml;\n",
              "          element.appendChild(docLink);\n",
              "        }\n",
              "      </script>\n",
              "    </div>\n",
              "  </div>\n",
              "  "
            ]
          },
          "metadata": {},
          "execution_count": 4
        }
      ]
    },
    {
      "cell_type": "code",
      "source": [
        "df.describe()"
      ],
      "metadata": {
        "id": "U6cil9GFDFbE",
        "outputId": "8a413fbf-053a-461d-dce7-4216bc688f01",
        "colab": {
          "base_uri": "https://localhost:8080/",
          "height": 279
        }
      },
      "execution_count": null,
      "outputs": [
        {
          "output_type": "execute_result",
          "data": {
            "text/plain": [
              "          IPV, %       Ka, md   Porosity  Mole Weight, MMdalton  \\\n",
              "count  49.000000    49.000000  49.000000              49.000000   \n",
              "mean   22.609796   819.755102   0.226122              10.704082   \n",
              "std     9.980429  1315.336594   0.048939               7.787489   \n",
              "min     1.800000    30.000000   0.120000               2.000000   \n",
              "25%    17.000000   277.000000   0.190000               5.500000   \n",
              "50%    21.380000   408.000000   0.210000               5.500000   \n",
              "75%    29.880000   660.000000   0.250000              20.000000   \n",
              "max    49.000000  7683.000000   0.410000              30.000000   \n",
              "\n",
              "       Concentration, ppm  Resistance Factor        Frr  Retention, ug/g  \\\n",
              "count            49.00000          49.000000  49.000000        49.000000   \n",
              "mean            875.77551          10.376531   3.642449        43.722245   \n",
              "std             880.57127           7.319852   2.432736        29.555393   \n",
              "min              49.00000           1.000000   1.000000         9.000000   \n",
              "25%             400.00000           5.870000   1.500000        27.500000   \n",
              "50%             600.00000           8.830000   3.970000        37.340000   \n",
              "75%            1000.00000          10.850000   4.520000        43.820000   \n",
              "max            5500.00000          39.690000  16.000000       215.000000   \n",
              "\n",
              "       Flow Velocity, ft/D  \n",
              "count            49.000000  \n",
              "mean              2.434694  \n",
              "std               2.564465  \n",
              "min               0.100000  \n",
              "25%               0.100000  \n",
              "50%               1.000000  \n",
              "75%               5.000000  \n",
              "max              10.000000  "
            ],
            "text/html": [
              "\n",
              "  <div id=\"df-c1a1e293-176d-4677-9f19-e94e54476678\">\n",
              "    <div class=\"colab-df-container\">\n",
              "      <div>\n",
              "<style scoped>\n",
              "    .dataframe tbody tr th:only-of-type {\n",
              "        vertical-align: middle;\n",
              "    }\n",
              "\n",
              "    .dataframe tbody tr th {\n",
              "        vertical-align: top;\n",
              "    }\n",
              "\n",
              "    .dataframe thead th {\n",
              "        text-align: right;\n",
              "    }\n",
              "</style>\n",
              "<table border=\"1\" class=\"dataframe\">\n",
              "  <thead>\n",
              "    <tr style=\"text-align: right;\">\n",
              "      <th></th>\n",
              "      <th>IPV, %</th>\n",
              "      <th>Ka, md</th>\n",
              "      <th>Porosity</th>\n",
              "      <th>Mole Weight, MMdalton</th>\n",
              "      <th>Concentration, ppm</th>\n",
              "      <th>Resistance Factor</th>\n",
              "      <th>Frr</th>\n",
              "      <th>Retention, ug/g</th>\n",
              "      <th>Flow Velocity, ft/D</th>\n",
              "    </tr>\n",
              "  </thead>\n",
              "  <tbody>\n",
              "    <tr>\n",
              "      <th>count</th>\n",
              "      <td>49.000000</td>\n",
              "      <td>49.000000</td>\n",
              "      <td>49.000000</td>\n",
              "      <td>49.000000</td>\n",
              "      <td>49.00000</td>\n",
              "      <td>49.000000</td>\n",
              "      <td>49.000000</td>\n",
              "      <td>49.000000</td>\n",
              "      <td>49.000000</td>\n",
              "    </tr>\n",
              "    <tr>\n",
              "      <th>mean</th>\n",
              "      <td>22.609796</td>\n",
              "      <td>819.755102</td>\n",
              "      <td>0.226122</td>\n",
              "      <td>10.704082</td>\n",
              "      <td>875.77551</td>\n",
              "      <td>10.376531</td>\n",
              "      <td>3.642449</td>\n",
              "      <td>43.722245</td>\n",
              "      <td>2.434694</td>\n",
              "    </tr>\n",
              "    <tr>\n",
              "      <th>std</th>\n",
              "      <td>9.980429</td>\n",
              "      <td>1315.336594</td>\n",
              "      <td>0.048939</td>\n",
              "      <td>7.787489</td>\n",
              "      <td>880.57127</td>\n",
              "      <td>7.319852</td>\n",
              "      <td>2.432736</td>\n",
              "      <td>29.555393</td>\n",
              "      <td>2.564465</td>\n",
              "    </tr>\n",
              "    <tr>\n",
              "      <th>min</th>\n",
              "      <td>1.800000</td>\n",
              "      <td>30.000000</td>\n",
              "      <td>0.120000</td>\n",
              "      <td>2.000000</td>\n",
              "      <td>49.00000</td>\n",
              "      <td>1.000000</td>\n",
              "      <td>1.000000</td>\n",
              "      <td>9.000000</td>\n",
              "      <td>0.100000</td>\n",
              "    </tr>\n",
              "    <tr>\n",
              "      <th>25%</th>\n",
              "      <td>17.000000</td>\n",
              "      <td>277.000000</td>\n",
              "      <td>0.190000</td>\n",
              "      <td>5.500000</td>\n",
              "      <td>400.00000</td>\n",
              "      <td>5.870000</td>\n",
              "      <td>1.500000</td>\n",
              "      <td>27.500000</td>\n",
              "      <td>0.100000</td>\n",
              "    </tr>\n",
              "    <tr>\n",
              "      <th>50%</th>\n",
              "      <td>21.380000</td>\n",
              "      <td>408.000000</td>\n",
              "      <td>0.210000</td>\n",
              "      <td>5.500000</td>\n",
              "      <td>600.00000</td>\n",
              "      <td>8.830000</td>\n",
              "      <td>3.970000</td>\n",
              "      <td>37.340000</td>\n",
              "      <td>1.000000</td>\n",
              "    </tr>\n",
              "    <tr>\n",
              "      <th>75%</th>\n",
              "      <td>29.880000</td>\n",
              "      <td>660.000000</td>\n",
              "      <td>0.250000</td>\n",
              "      <td>20.000000</td>\n",
              "      <td>1000.00000</td>\n",
              "      <td>10.850000</td>\n",
              "      <td>4.520000</td>\n",
              "      <td>43.820000</td>\n",
              "      <td>5.000000</td>\n",
              "    </tr>\n",
              "    <tr>\n",
              "      <th>max</th>\n",
              "      <td>49.000000</td>\n",
              "      <td>7683.000000</td>\n",
              "      <td>0.410000</td>\n",
              "      <td>30.000000</td>\n",
              "      <td>5500.00000</td>\n",
              "      <td>39.690000</td>\n",
              "      <td>16.000000</td>\n",
              "      <td>215.000000</td>\n",
              "      <td>10.000000</td>\n",
              "    </tr>\n",
              "  </tbody>\n",
              "</table>\n",
              "</div>\n",
              "      <button class=\"colab-df-convert\" onclick=\"convertToInteractive('df-c1a1e293-176d-4677-9f19-e94e54476678')\"\n",
              "              title=\"Convert this dataframe to an interactive table.\"\n",
              "              style=\"display:none;\">\n",
              "        \n",
              "  <svg xmlns=\"http://www.w3.org/2000/svg\" height=\"24px\"viewBox=\"0 0 24 24\"\n",
              "       width=\"24px\">\n",
              "    <path d=\"M0 0h24v24H0V0z\" fill=\"none\"/>\n",
              "    <path d=\"M18.56 5.44l.94 2.06.94-2.06 2.06-.94-2.06-.94-.94-2.06-.94 2.06-2.06.94zm-11 1L8.5 8.5l.94-2.06 2.06-.94-2.06-.94L8.5 2.5l-.94 2.06-2.06.94zm10 10l.94 2.06.94-2.06 2.06-.94-2.06-.94-.94-2.06-.94 2.06-2.06.94z\"/><path d=\"M17.41 7.96l-1.37-1.37c-.4-.4-.92-.59-1.43-.59-.52 0-1.04.2-1.43.59L10.3 9.45l-7.72 7.72c-.78.78-.78 2.05 0 2.83L4 21.41c.39.39.9.59 1.41.59.51 0 1.02-.2 1.41-.59l7.78-7.78 2.81-2.81c.8-.78.8-2.07 0-2.86zM5.41 20L4 18.59l7.72-7.72 1.47 1.35L5.41 20z\"/>\n",
              "  </svg>\n",
              "      </button>\n",
              "      \n",
              "  <style>\n",
              "    .colab-df-container {\n",
              "      display:flex;\n",
              "      flex-wrap:wrap;\n",
              "      gap: 12px;\n",
              "    }\n",
              "\n",
              "    .colab-df-convert {\n",
              "      background-color: #E8F0FE;\n",
              "      border: none;\n",
              "      border-radius: 50%;\n",
              "      cursor: pointer;\n",
              "      display: none;\n",
              "      fill: #1967D2;\n",
              "      height: 32px;\n",
              "      padding: 0 0 0 0;\n",
              "      width: 32px;\n",
              "    }\n",
              "\n",
              "    .colab-df-convert:hover {\n",
              "      background-color: #E2EBFA;\n",
              "      box-shadow: 0px 1px 2px rgba(60, 64, 67, 0.3), 0px 1px 3px 1px rgba(60, 64, 67, 0.15);\n",
              "      fill: #174EA6;\n",
              "    }\n",
              "\n",
              "    [theme=dark] .colab-df-convert {\n",
              "      background-color: #3B4455;\n",
              "      fill: #D2E3FC;\n",
              "    }\n",
              "\n",
              "    [theme=dark] .colab-df-convert:hover {\n",
              "      background-color: #434B5C;\n",
              "      box-shadow: 0px 1px 3px 1px rgba(0, 0, 0, 0.15);\n",
              "      filter: drop-shadow(0px 1px 2px rgba(0, 0, 0, 0.3));\n",
              "      fill: #FFFFFF;\n",
              "    }\n",
              "  </style>\n",
              "\n",
              "      <script>\n",
              "        const buttonEl =\n",
              "          document.querySelector('#df-c1a1e293-176d-4677-9f19-e94e54476678 button.colab-df-convert');\n",
              "        buttonEl.style.display =\n",
              "          google.colab.kernel.accessAllowed ? 'block' : 'none';\n",
              "\n",
              "        async function convertToInteractive(key) {\n",
              "          const element = document.querySelector('#df-c1a1e293-176d-4677-9f19-e94e54476678');\n",
              "          const dataTable =\n",
              "            await google.colab.kernel.invokeFunction('convertToInteractive',\n",
              "                                                     [key], {});\n",
              "          if (!dataTable) return;\n",
              "\n",
              "          const docLinkHtml = 'Like what you see? Visit the ' +\n",
              "            '<a target=\"_blank\" href=https://colab.research.google.com/notebooks/data_table.ipynb>data table notebook</a>'\n",
              "            + ' to learn more about interactive tables.';\n",
              "          element.innerHTML = '';\n",
              "          dataTable['output_type'] = 'display_data';\n",
              "          await google.colab.output.renderOutput(dataTable, element);\n",
              "          const docLink = document.createElement('div');\n",
              "          docLink.innerHTML = docLinkHtml;\n",
              "          element.appendChild(docLink);\n",
              "        }\n",
              "      </script>\n",
              "    </div>\n",
              "  </div>\n",
              "  "
            ]
          },
          "metadata": {},
          "execution_count": 5
        }
      ]
    },
    {
      "cell_type": "markdown",
      "metadata": {
        "id": "a6bG_gAPi0Me"
      },
      "source": [
        "# Part 1: Data Exploration"
      ]
    },
    {
      "cell_type": "markdown",
      "metadata": {
        "id": "bspx2K6fi0Me"
      },
      "source": [
        "### Part 1.1: Understand the Raw Dataset"
      ]
    },
    {
      "cell_type": "code",
      "metadata": {
        "id": "kuTHKjk-i0Mf"
      },
      "source": [
        "import pandas as pd\n",
        "import numpy as np\n",
        "\n",
        "ISG_df = df"
      ],
      "execution_count": null,
      "outputs": []
    },
    {
      "cell_type": "code",
      "metadata": {
        "id": "hHNZRs2Ti0Mi",
        "scrolled": true,
        "colab": {
          "base_uri": "https://localhost:8080/",
          "height": 206
        },
        "outputId": "26c8dd43-50ba-499f-cd1c-5be43a1ac880"
      },
      "source": [
        "ISG_df.head()"
      ],
      "execution_count": null,
      "outputs": [
        {
          "output_type": "execute_result",
          "data": {
            "text/plain": [
              "   IPV, %  Ka, md  Porosity  Mole Weight, dalton  Concentration, ppm  \\\n",
              "0     4.0    90.0   0.34275            5500000.0                 250   \n",
              "1     0.0   120.0   0.34275            5500000.0                 250   \n",
              "2    15.0  4500.0   0.34800            5500000.0                 500   \n",
              "3    23.0  5650.0   0.34300            5500000.0                 250   \n",
              "4    26.0  4900.0   0.33900            5500000.0                 125   \n",
              "\n",
              "   Resistance Factor   Frr  Retention, ug/g  Flow Velocity, ft/D  \n",
              "0                9.0  4.42            32.46                  0.1  \n",
              "1                9.0  4.42            32.46                  0.1  \n",
              "2               25.0  4.28            35.87                  0.1  \n",
              "3                9.0  4.42            32.46                  0.1  \n",
              "4                4.0  4.49            30.88                  0.1  "
            ],
            "text/html": [
              "\n",
              "  <div id=\"df-ac6c9b31-a930-42f1-8ff5-b64db0d2ddfb\">\n",
              "    <div class=\"colab-df-container\">\n",
              "      <div>\n",
              "<style scoped>\n",
              "    .dataframe tbody tr th:only-of-type {\n",
              "        vertical-align: middle;\n",
              "    }\n",
              "\n",
              "    .dataframe tbody tr th {\n",
              "        vertical-align: top;\n",
              "    }\n",
              "\n",
              "    .dataframe thead th {\n",
              "        text-align: right;\n",
              "    }\n",
              "</style>\n",
              "<table border=\"1\" class=\"dataframe\">\n",
              "  <thead>\n",
              "    <tr style=\"text-align: right;\">\n",
              "      <th></th>\n",
              "      <th>IPV, %</th>\n",
              "      <th>Ka, md</th>\n",
              "      <th>Porosity</th>\n",
              "      <th>Mole Weight, dalton</th>\n",
              "      <th>Concentration, ppm</th>\n",
              "      <th>Resistance Factor</th>\n",
              "      <th>Frr</th>\n",
              "      <th>Retention, ug/g</th>\n",
              "      <th>Flow Velocity, ft/D</th>\n",
              "    </tr>\n",
              "  </thead>\n",
              "  <tbody>\n",
              "    <tr>\n",
              "      <th>0</th>\n",
              "      <td>4.0</td>\n",
              "      <td>90.0</td>\n",
              "      <td>0.34275</td>\n",
              "      <td>5500000.0</td>\n",
              "      <td>250</td>\n",
              "      <td>9.0</td>\n",
              "      <td>4.42</td>\n",
              "      <td>32.46</td>\n",
              "      <td>0.1</td>\n",
              "    </tr>\n",
              "    <tr>\n",
              "      <th>1</th>\n",
              "      <td>0.0</td>\n",
              "      <td>120.0</td>\n",
              "      <td>0.34275</td>\n",
              "      <td>5500000.0</td>\n",
              "      <td>250</td>\n",
              "      <td>9.0</td>\n",
              "      <td>4.42</td>\n",
              "      <td>32.46</td>\n",
              "      <td>0.1</td>\n",
              "    </tr>\n",
              "    <tr>\n",
              "      <th>2</th>\n",
              "      <td>15.0</td>\n",
              "      <td>4500.0</td>\n",
              "      <td>0.34800</td>\n",
              "      <td>5500000.0</td>\n",
              "      <td>500</td>\n",
              "      <td>25.0</td>\n",
              "      <td>4.28</td>\n",
              "      <td>35.87</td>\n",
              "      <td>0.1</td>\n",
              "    </tr>\n",
              "    <tr>\n",
              "      <th>3</th>\n",
              "      <td>23.0</td>\n",
              "      <td>5650.0</td>\n",
              "      <td>0.34300</td>\n",
              "      <td>5500000.0</td>\n",
              "      <td>250</td>\n",
              "      <td>9.0</td>\n",
              "      <td>4.42</td>\n",
              "      <td>32.46</td>\n",
              "      <td>0.1</td>\n",
              "    </tr>\n",
              "    <tr>\n",
              "      <th>4</th>\n",
              "      <td>26.0</td>\n",
              "      <td>4900.0</td>\n",
              "      <td>0.33900</td>\n",
              "      <td>5500000.0</td>\n",
              "      <td>125</td>\n",
              "      <td>4.0</td>\n",
              "      <td>4.49</td>\n",
              "      <td>30.88</td>\n",
              "      <td>0.1</td>\n",
              "    </tr>\n",
              "  </tbody>\n",
              "</table>\n",
              "</div>\n",
              "      <button class=\"colab-df-convert\" onclick=\"convertToInteractive('df-ac6c9b31-a930-42f1-8ff5-b64db0d2ddfb')\"\n",
              "              title=\"Convert this dataframe to an interactive table.\"\n",
              "              style=\"display:none;\">\n",
              "        \n",
              "  <svg xmlns=\"http://www.w3.org/2000/svg\" height=\"24px\"viewBox=\"0 0 24 24\"\n",
              "       width=\"24px\">\n",
              "    <path d=\"M0 0h24v24H0V0z\" fill=\"none\"/>\n",
              "    <path d=\"M18.56 5.44l.94 2.06.94-2.06 2.06-.94-2.06-.94-.94-2.06-.94 2.06-2.06.94zm-11 1L8.5 8.5l.94-2.06 2.06-.94-2.06-.94L8.5 2.5l-.94 2.06-2.06.94zm10 10l.94 2.06.94-2.06 2.06-.94-2.06-.94-.94-2.06-.94 2.06-2.06.94z\"/><path d=\"M17.41 7.96l-1.37-1.37c-.4-.4-.92-.59-1.43-.59-.52 0-1.04.2-1.43.59L10.3 9.45l-7.72 7.72c-.78.78-.78 2.05 0 2.83L4 21.41c.39.39.9.59 1.41.59.51 0 1.02-.2 1.41-.59l7.78-7.78 2.81-2.81c.8-.78.8-2.07 0-2.86zM5.41 20L4 18.59l7.72-7.72 1.47 1.35L5.41 20z\"/>\n",
              "  </svg>\n",
              "      </button>\n",
              "      \n",
              "  <style>\n",
              "    .colab-df-container {\n",
              "      display:flex;\n",
              "      flex-wrap:wrap;\n",
              "      gap: 12px;\n",
              "    }\n",
              "\n",
              "    .colab-df-convert {\n",
              "      background-color: #E8F0FE;\n",
              "      border: none;\n",
              "      border-radius: 50%;\n",
              "      cursor: pointer;\n",
              "      display: none;\n",
              "      fill: #1967D2;\n",
              "      height: 32px;\n",
              "      padding: 0 0 0 0;\n",
              "      width: 32px;\n",
              "    }\n",
              "\n",
              "    .colab-df-convert:hover {\n",
              "      background-color: #E2EBFA;\n",
              "      box-shadow: 0px 1px 2px rgba(60, 64, 67, 0.3), 0px 1px 3px 1px rgba(60, 64, 67, 0.15);\n",
              "      fill: #174EA6;\n",
              "    }\n",
              "\n",
              "    [theme=dark] .colab-df-convert {\n",
              "      background-color: #3B4455;\n",
              "      fill: #D2E3FC;\n",
              "    }\n",
              "\n",
              "    [theme=dark] .colab-df-convert:hover {\n",
              "      background-color: #434B5C;\n",
              "      box-shadow: 0px 1px 3px 1px rgba(0, 0, 0, 0.15);\n",
              "      filter: drop-shadow(0px 1px 2px rgba(0, 0, 0, 0.3));\n",
              "      fill: #FFFFFF;\n",
              "    }\n",
              "  </style>\n",
              "\n",
              "      <script>\n",
              "        const buttonEl =\n",
              "          document.querySelector('#df-ac6c9b31-a930-42f1-8ff5-b64db0d2ddfb button.colab-df-convert');\n",
              "        buttonEl.style.display =\n",
              "          google.colab.kernel.accessAllowed ? 'block' : 'none';\n",
              "\n",
              "        async function convertToInteractive(key) {\n",
              "          const element = document.querySelector('#df-ac6c9b31-a930-42f1-8ff5-b64db0d2ddfb');\n",
              "          const dataTable =\n",
              "            await google.colab.kernel.invokeFunction('convertToInteractive',\n",
              "                                                     [key], {});\n",
              "          if (!dataTable) return;\n",
              "\n",
              "          const docLinkHtml = 'Like what you see? Visit the ' +\n",
              "            '<a target=\"_blank\" href=https://colab.research.google.com/notebooks/data_table.ipynb>data table notebook</a>'\n",
              "            + ' to learn more about interactive tables.';\n",
              "          element.innerHTML = '';\n",
              "          dataTable['output_type'] = 'display_data';\n",
              "          await google.colab.output.renderOutput(dataTable, element);\n",
              "          const docLink = document.createElement('div');\n",
              "          docLink.innerHTML = docLinkHtml;\n",
              "          element.appendChild(docLink);\n",
              "        }\n",
              "      </script>\n",
              "    </div>\n",
              "  </div>\n",
              "  "
            ]
          },
          "metadata": {},
          "execution_count": 6
        }
      ]
    },
    {
      "cell_type": "code",
      "metadata": {
        "id": "ht5YOBdx8NLV",
        "colab": {
          "base_uri": "https://localhost:8080/"
        },
        "outputId": "c37d71cb-59dd-432e-bde3-9ed4701affbb"
      },
      "source": [
        "# check data info\n",
        "ISG_df.info()"
      ],
      "execution_count": null,
      "outputs": [
        {
          "output_type": "stream",
          "name": "stdout",
          "text": [
            "<class 'pandas.core.frame.DataFrame'>\n",
            "RangeIndex: 127 entries, 0 to 126\n",
            "Data columns (total 9 columns):\n",
            " #   Column               Non-Null Count  Dtype  \n",
            "---  ------               --------------  -----  \n",
            " 0   IPV, %               127 non-null    float64\n",
            " 1   Ka, md               127 non-null    float64\n",
            " 2   Porosity             127 non-null    float64\n",
            " 3   Mole Weight, dalton  127 non-null    float64\n",
            " 4   Concentration, ppm   127 non-null    int64  \n",
            " 5   Resistance Factor    127 non-null    float64\n",
            " 6   Frr                  127 non-null    float64\n",
            " 7   Retention, ug/g      127 non-null    float64\n",
            " 8   Flow Velocity, ft/D  127 non-null    float64\n",
            "dtypes: float64(8), int64(1)\n",
            "memory usage: 9.1 KB\n"
          ]
        }
      ]
    },
    {
      "cell_type": "markdown",
      "source": [
        "import math"
      ],
      "metadata": {
        "id": "rfIY-xy_YQbY"
      }
    },
    {
      "cell_type": "code",
      "source": [
        "# check data info\n",
        "ISG_df.describe()"
      ],
      "metadata": {
        "colab": {
          "base_uri": "https://localhost:8080/",
          "height": 279
        },
        "id": "CkTWKVvlHD-F",
        "outputId": "ef5c46f0-f9aa-41b0-c5a0-e2a145cc914c"
      },
      "execution_count": null,
      "outputs": [
        {
          "output_type": "execute_result",
          "data": {
            "text/plain": [
              "           IPV, %        Ka, md    Porosity  Mole Weight, dalton  \\\n",
              "count  127.000000    127.000000  127.000000         1.270000e+02   \n",
              "mean    22.498189   2689.119685    0.250065         1.125197e+07   \n",
              "std      8.950739   5264.563370    0.053610         7.572107e+06   \n",
              "min      0.000000     30.000000    0.116327         2.000000e+06   \n",
              "25%     17.300000    277.000000    0.205800         5.500000e+06   \n",
              "50%     22.000000    660.000000    0.250065         5.500000e+06   \n",
              "75%     27.030000   4875.000000    0.266500         2.000000e+07   \n",
              "max     49.000000  50000.000000    0.418000         3.000000e+07   \n",
              "\n",
              "       Concentration, ppm  Resistance Factor         Frr  Retention, ug/g  \\\n",
              "count          127.000000         127.000000  127.000000       127.000000   \n",
              "mean           943.314961          10.033937    3.326535        52.307638   \n",
              "std            968.946120          11.402782    3.115937        55.756177   \n",
              "min             49.000000           1.000000    1.000000         9.000000   \n",
              "25%            400.000000           4.300000    1.000000        32.460000   \n",
              "50%            757.000000           7.160000    3.570000        43.820000   \n",
              "75%           1250.000000          10.630000    4.420000        48.420000   \n",
              "max           5500.000000          99.100000   23.290000       530.000000   \n",
              "\n",
              "       Flow Velocity, ft/D  \n",
              "count           127.000000  \n",
              "mean              4.783465  \n",
              "std               5.708804  \n",
              "min               0.100000  \n",
              "25%               0.100000  \n",
              "50%               2.000000  \n",
              "75%               5.000000  \n",
              "max              24.000000  "
            ],
            "text/html": [
              "\n",
              "  <div id=\"df-008d7078-b80e-48fd-a109-6a05d0643fef\">\n",
              "    <div class=\"colab-df-container\">\n",
              "      <div>\n",
              "<style scoped>\n",
              "    .dataframe tbody tr th:only-of-type {\n",
              "        vertical-align: middle;\n",
              "    }\n",
              "\n",
              "    .dataframe tbody tr th {\n",
              "        vertical-align: top;\n",
              "    }\n",
              "\n",
              "    .dataframe thead th {\n",
              "        text-align: right;\n",
              "    }\n",
              "</style>\n",
              "<table border=\"1\" class=\"dataframe\">\n",
              "  <thead>\n",
              "    <tr style=\"text-align: right;\">\n",
              "      <th></th>\n",
              "      <th>IPV, %</th>\n",
              "      <th>Ka, md</th>\n",
              "      <th>Porosity</th>\n",
              "      <th>Mole Weight, dalton</th>\n",
              "      <th>Concentration, ppm</th>\n",
              "      <th>Resistance Factor</th>\n",
              "      <th>Frr</th>\n",
              "      <th>Retention, ug/g</th>\n",
              "      <th>Flow Velocity, ft/D</th>\n",
              "    </tr>\n",
              "  </thead>\n",
              "  <tbody>\n",
              "    <tr>\n",
              "      <th>count</th>\n",
              "      <td>127.000000</td>\n",
              "      <td>127.000000</td>\n",
              "      <td>127.000000</td>\n",
              "      <td>1.270000e+02</td>\n",
              "      <td>127.000000</td>\n",
              "      <td>127.000000</td>\n",
              "      <td>127.000000</td>\n",
              "      <td>127.000000</td>\n",
              "      <td>127.000000</td>\n",
              "    </tr>\n",
              "    <tr>\n",
              "      <th>mean</th>\n",
              "      <td>22.498189</td>\n",
              "      <td>2689.119685</td>\n",
              "      <td>0.250065</td>\n",
              "      <td>1.125197e+07</td>\n",
              "      <td>943.314961</td>\n",
              "      <td>10.033937</td>\n",
              "      <td>3.326535</td>\n",
              "      <td>52.307638</td>\n",
              "      <td>4.783465</td>\n",
              "    </tr>\n",
              "    <tr>\n",
              "      <th>std</th>\n",
              "      <td>8.950739</td>\n",
              "      <td>5264.563370</td>\n",
              "      <td>0.053610</td>\n",
              "      <td>7.572107e+06</td>\n",
              "      <td>968.946120</td>\n",
              "      <td>11.402782</td>\n",
              "      <td>3.115937</td>\n",
              "      <td>55.756177</td>\n",
              "      <td>5.708804</td>\n",
              "    </tr>\n",
              "    <tr>\n",
              "      <th>min</th>\n",
              "      <td>0.000000</td>\n",
              "      <td>30.000000</td>\n",
              "      <td>0.116327</td>\n",
              "      <td>2.000000e+06</td>\n",
              "      <td>49.000000</td>\n",
              "      <td>1.000000</td>\n",
              "      <td>1.000000</td>\n",
              "      <td>9.000000</td>\n",
              "      <td>0.100000</td>\n",
              "    </tr>\n",
              "    <tr>\n",
              "      <th>25%</th>\n",
              "      <td>17.300000</td>\n",
              "      <td>277.000000</td>\n",
              "      <td>0.205800</td>\n",
              "      <td>5.500000e+06</td>\n",
              "      <td>400.000000</td>\n",
              "      <td>4.300000</td>\n",
              "      <td>1.000000</td>\n",
              "      <td>32.460000</td>\n",
              "      <td>0.100000</td>\n",
              "    </tr>\n",
              "    <tr>\n",
              "      <th>50%</th>\n",
              "      <td>22.000000</td>\n",
              "      <td>660.000000</td>\n",
              "      <td>0.250065</td>\n",
              "      <td>5.500000e+06</td>\n",
              "      <td>757.000000</td>\n",
              "      <td>7.160000</td>\n",
              "      <td>3.570000</td>\n",
              "      <td>43.820000</td>\n",
              "      <td>2.000000</td>\n",
              "    </tr>\n",
              "    <tr>\n",
              "      <th>75%</th>\n",
              "      <td>27.030000</td>\n",
              "      <td>4875.000000</td>\n",
              "      <td>0.266500</td>\n",
              "      <td>2.000000e+07</td>\n",
              "      <td>1250.000000</td>\n",
              "      <td>10.630000</td>\n",
              "      <td>4.420000</td>\n",
              "      <td>48.420000</td>\n",
              "      <td>5.000000</td>\n",
              "    </tr>\n",
              "    <tr>\n",
              "      <th>max</th>\n",
              "      <td>49.000000</td>\n",
              "      <td>50000.000000</td>\n",
              "      <td>0.418000</td>\n",
              "      <td>3.000000e+07</td>\n",
              "      <td>5500.000000</td>\n",
              "      <td>99.100000</td>\n",
              "      <td>23.290000</td>\n",
              "      <td>530.000000</td>\n",
              "      <td>24.000000</td>\n",
              "    </tr>\n",
              "  </tbody>\n",
              "</table>\n",
              "</div>\n",
              "      <button class=\"colab-df-convert\" onclick=\"convertToInteractive('df-008d7078-b80e-48fd-a109-6a05d0643fef')\"\n",
              "              title=\"Convert this dataframe to an interactive table.\"\n",
              "              style=\"display:none;\">\n",
              "        \n",
              "  <svg xmlns=\"http://www.w3.org/2000/svg\" height=\"24px\"viewBox=\"0 0 24 24\"\n",
              "       width=\"24px\">\n",
              "    <path d=\"M0 0h24v24H0V0z\" fill=\"none\"/>\n",
              "    <path d=\"M18.56 5.44l.94 2.06.94-2.06 2.06-.94-2.06-.94-.94-2.06-.94 2.06-2.06.94zm-11 1L8.5 8.5l.94-2.06 2.06-.94-2.06-.94L8.5 2.5l-.94 2.06-2.06.94zm10 10l.94 2.06.94-2.06 2.06-.94-2.06-.94-.94-2.06-.94 2.06-2.06.94z\"/><path d=\"M17.41 7.96l-1.37-1.37c-.4-.4-.92-.59-1.43-.59-.52 0-1.04.2-1.43.59L10.3 9.45l-7.72 7.72c-.78.78-.78 2.05 0 2.83L4 21.41c.39.39.9.59 1.41.59.51 0 1.02-.2 1.41-.59l7.78-7.78 2.81-2.81c.8-.78.8-2.07 0-2.86zM5.41 20L4 18.59l7.72-7.72 1.47 1.35L5.41 20z\"/>\n",
              "  </svg>\n",
              "      </button>\n",
              "      \n",
              "  <style>\n",
              "    .colab-df-container {\n",
              "      display:flex;\n",
              "      flex-wrap:wrap;\n",
              "      gap: 12px;\n",
              "    }\n",
              "\n",
              "    .colab-df-convert {\n",
              "      background-color: #E8F0FE;\n",
              "      border: none;\n",
              "      border-radius: 50%;\n",
              "      cursor: pointer;\n",
              "      display: none;\n",
              "      fill: #1967D2;\n",
              "      height: 32px;\n",
              "      padding: 0 0 0 0;\n",
              "      width: 32px;\n",
              "    }\n",
              "\n",
              "    .colab-df-convert:hover {\n",
              "      background-color: #E2EBFA;\n",
              "      box-shadow: 0px 1px 2px rgba(60, 64, 67, 0.3), 0px 1px 3px 1px rgba(60, 64, 67, 0.15);\n",
              "      fill: #174EA6;\n",
              "    }\n",
              "\n",
              "    [theme=dark] .colab-df-convert {\n",
              "      background-color: #3B4455;\n",
              "      fill: #D2E3FC;\n",
              "    }\n",
              "\n",
              "    [theme=dark] .colab-df-convert:hover {\n",
              "      background-color: #434B5C;\n",
              "      box-shadow: 0px 1px 3px 1px rgba(0, 0, 0, 0.15);\n",
              "      filter: drop-shadow(0px 1px 2px rgba(0, 0, 0, 0.3));\n",
              "      fill: #FFFFFF;\n",
              "    }\n",
              "  </style>\n",
              "\n",
              "      <script>\n",
              "        const buttonEl =\n",
              "          document.querySelector('#df-008d7078-b80e-48fd-a109-6a05d0643fef button.colab-df-convert');\n",
              "        buttonEl.style.display =\n",
              "          google.colab.kernel.accessAllowed ? 'block' : 'none';\n",
              "\n",
              "        async function convertToInteractive(key) {\n",
              "          const element = document.querySelector('#df-008d7078-b80e-48fd-a109-6a05d0643fef');\n",
              "          const dataTable =\n",
              "            await google.colab.kernel.invokeFunction('convertToInteractive',\n",
              "                                                     [key], {});\n",
              "          if (!dataTable) return;\n",
              "\n",
              "          const docLinkHtml = 'Like what you see? Visit the ' +\n",
              "            '<a target=\"_blank\" href=https://colab.research.google.com/notebooks/data_table.ipynb>data table notebook</a>'\n",
              "            + ' to learn more about interactive tables.';\n",
              "          element.innerHTML = '';\n",
              "          dataTable['output_type'] = 'display_data';\n",
              "          await google.colab.output.renderOutput(dataTable, element);\n",
              "          const docLink = document.createElement('div');\n",
              "          docLink.innerHTML = docLinkHtml;\n",
              "          element.appendChild(docLink);\n",
              "        }\n",
              "      </script>\n",
              "    </div>\n",
              "  </div>\n",
              "  "
            ]
          },
          "metadata": {},
          "execution_count": 8
        }
      ]
    },
    {
      "cell_type": "code",
      "source": [
        "ISG_df['K2']=ISG_df['K']*ISG_df['K']\n",
        "ISG_df['Porosity2']=ISG_df['Porosity']*ISG_df['Porosity']\n",
        "ISG_df['Concentration2']=ISG_df['Concentration']*ISG_df['Concentration']\n",
        "ISG_df['Resistance_Factor2']=ISG_df['Resistance_Factor']*ISG_df['Resistance_Factor']\n",
        "ISG_df['Oil_Viscosity2']=ISG_df['Oil_Viscosity']*ISG_df['Oil_Viscosity']\n",
        "ISG_df['Retention2']=ISG_df['Retention']*ISG_df['Retention']\n",
        "ISG_df['Flow_Velocity2']=ISG_df['Flow_Velocity']*ISG_df['Flow_Velocity']\n",
        "\n",
        "ISG_df['Klog']=np.log2(ISG_df['K'])\n",
        "ISG_df['Porositylog']=np.log2(ISG_df['Porosity'])\n",
        "ISG_df['Concentrationlog']=np.log2(ISG_df['Concentration'])\n",
        "ISG_df['Resistance_Factorlog']=np.log2(ISG_df['Resistance_Factor'])\n",
        "ISG_df['Oil_Viscositylog']=np.log2(ISG_df['Oil_Viscosity'])\n",
        "ISG_df['Retentionlog']=np.log2(ISG_df['Retention'])\n",
        "ISG_df['Flow_Velocitylog']=np.log2(ISG_df['Flow_Velocity'])\n",
        "\n",
        "\n"
      ],
      "metadata": {
        "id": "zJDT9t5PVM85"
      },
      "execution_count": null,
      "outputs": []
    },
    {
      "cell_type": "code",
      "metadata": {
        "id": "BIqBIpOt_COM"
      },
      "source": [
        "# understand Numerical feature\n",
        "ISG_df.describe()"
      ],
      "execution_count": null,
      "outputs": []
    },
    {
      "cell_type": "code",
      "metadata": {
        "id": "uSWC_9arxlfk"
      },
      "source": [
        "# check the feature distribution\n",
        "# pandas.DataFrame.describe()\n",
        "# boxplot, distplot, countplot\n",
        "import matplotlib.pyplot as plt\n",
        "import seaborn as sns"
      ],
      "execution_count": null,
      "outputs": []
    },
    {
      "cell_type": "code",
      "source": [
        "sns.boxplot(x='Flow_Velocity',data=ISG_df,orient='horizontal',width=0.8)"
      ],
      "metadata": {
        "id": "1ffezOuiOSkr"
      },
      "execution_count": null,
      "outputs": []
    },
    {
      "cell_type": "code",
      "source": [
        "Bulk_Viscosity=[25,\t9,\t4,\t7,\t4.1\t,3.7\t,2.45\t,1.65\t,2.95,\t6,\t6,\t8,\t4.43,\t4.08,\t4.78,\t3.89,\t3.98,\t3.5,\t3.88,\t3.88,\t6.68,\t6.68,\t6.47,\t6.47,\t5.91,\t5.91,\t5.8,\t5.8,\t7.2,\t7.2,\t7.24,\t7.24\t,7.4,\t7.4,\t7.67,\t7.67]\n",
        "sns.boxplot(x=Bulk_Viscosity,orient='horizontal',width=0.8)"
      ],
      "metadata": {
        "id": "QvCSpl_8Zotr"
      },
      "execution_count": null,
      "outputs": []
    },
    {
      "cell_type": "code",
      "source": [
        "ISG_df_H = ISG_df.loc[ISG_df['Polymer'] == 'HPAM']\n",
        "ISG_df_X = ISG_df.loc[ISG_df['Polymer'] == 'Biopolymer']\n",
        "ISG_df_O = ISG_df.loc[ISG_df['Sor'] == 'Yes']\n",
        "ISG_df_W = ISG_df.loc[ISG_df['Sor'] == 'No']\n",
        "ISG_df=ISG_df_H"
      ],
      "metadata": {
        "id": "vO5ReHu73xHt"
      },
      "execution_count": null,
      "outputs": []
    },
    {
      "cell_type": "code",
      "metadata": {
        "id": "2ziP9F47xzDJ"
      },
      "source": [
        "_,axss = plt.subplots(2,2, figsize=[20,10])\n",
        "#00 HPAM, 01 Biopolymer, 10 Oil, 11 No Oil\n",
        "sns.boxplot(y='IAPV',data=ISG_df_H,ax=axss[0][0])\n",
        "sns.boxplot(y='IAPV',data=ISG_df_X,ax=axss[0][1])\n",
        "sns.boxplot(y='IAPV', data=ISG_df_O,ax=axss[1][0])\n",
        "sns.boxplot(y='IAPV', data=ISG_df_W,ax=axss[1][1])"
      ],
      "execution_count": null,
      "outputs": []
    },
    {
      "cell_type": "code",
      "source": [
        "# scatterplot for numerical feature\n",
        "_,axss = plt.subplots(4,3, figsize=[20,10])\n",
        "p1=sns.scatterplot(x='IAPV', y ='K', data=ISG_df_H,  ax=axss[0][0])\n",
        "p2=sns.scatterplot(x='IAPV', y ='Porosity', data=ISG_df_H,  ax=axss[0][1])\n",
        "p3=sns.scatterplot(x='IAPV', y ='Salinity', data=ISG_df_H,  ax=axss[0][2])\n",
        "p4=sns.scatterplot(x='IAPV', y ='Sor', data=ISG_df_H,  ax=axss[1][0])\n",
        "p5=sns.scatterplot(x='IAPV', y ='Mole_Weight', data=ISG_df_H, ax=axss[1][1])\n",
        "p6=sns.scatterplot(x='IAPV', y ='Concentration', data=ISG_df_H,  ax=axss[1][2])\n",
        "p7=sns.scatterplot(x='IAPV', y ='Polymer', data=ISG_df_H,  ax=axss[2][0])\n",
        "p8=sns.scatterplot(x='IAPV', y ='Resistance_Factor', data=ISG_df_H,  ax=axss[2][1])\n",
        "p9=sns.scatterplot(x='IAPV', y ='Oil_Viscosity', data=ISG_df_H,  ax=axss[2][2])\n",
        "p10=sns.scatterplot(x='IAPV', y ='Frr', data=ISG_df_H,  ax=axss[3][0])\n",
        "p11=sns.scatterplot(x='IAPV', y ='Retention', data=ISG_df_H,  ax=axss[3][1])\n",
        "p12=sns.scatterplot(x='IAPV', y ='Flow_Velocity', data=ISG_df_H,  ax=axss[3][2])\n",
        "\n",
        "\n",
        "#可以根据每个图对比提出hyposises，后续可以进行验证"
      ],
      "metadata": {
        "id": "pXimyKouJLcS"
      },
      "execution_count": null,
      "outputs": []
    },
    {
      "cell_type": "code",
      "source": [
        "# scatterplot for numerical feature\n",
        "_,axss = plt.subplots(4,3, figsize=[20,10])\n",
        "p1=sns.scatterplot(x='IAPV', y ='K', data=ISG_df_X,  ax=axss[0][0])\n",
        "p2=sns.scatterplot(x='IAPV', y ='Porosity', data=ISG_df_X,  ax=axss[0][1])\n",
        "p3=sns.scatterplot(x='IAPV', y ='Salinity', data=ISG_df_X,  ax=axss[0][2])\n",
        "p4=sns.scatterplot(x='IAPV', y ='Sor', data=ISG_df_X,  ax=axss[1][0])\n",
        "p5=sns.scatterplot(x='IAPV', y ='Mole_Weight', data=ISG_df_X, ax=axss[1][1])\n",
        "p6=sns.scatterplot(x='IAPV', y ='Concentration', data=ISG_df_X,  ax=axss[1][2])\n",
        "p7=sns.scatterplot(x='IAPV', y ='Polymer', data=ISG_df_X,  ax=axss[2][0])\n",
        "p8=sns.scatterplot(x='IAPV', y ='Resistance_Factor', data=ISG_df_X,  ax=axss[2][1])\n",
        "p9=sns.scatterplot(x='IAPV', y ='Oil_Viscosity', data=ISG_df_X,  ax=axss[2][2])\n",
        "p10=sns.scatterplot(x='IAPV', y ='Frr', data=ISG_df_X,  ax=axss[3][0])\n",
        "p11=sns.scatterplot(x='IAPV', y ='Retention', data=ISG_df_X,  ax=axss[3][1])\n",
        "p12=sns.scatterplot(x='IAPV', y ='Flow_Velocity', data=ISG_df_X,  ax=axss[3][2])"
      ],
      "metadata": {
        "id": "x4FL93zcdYcY"
      },
      "execution_count": null,
      "outputs": []
    },
    {
      "cell_type": "markdown",
      "metadata": {
        "id": "aFa4d6t3i0NH"
      },
      "source": [
        "# Part 2: Feature Preprocessing"
      ]
    },
    {
      "cell_type": "code",
      "metadata": {
        "id": "haTqRerN13Vm"
      },
      "source": [
        "ISG_df=ISG_df.dropna(axis=0)\n",
        "ISG_df\n"
      ],
      "execution_count": null,
      "outputs": []
    },
    {
      "cell_type": "code",
      "metadata": {
        "id": "3sfa2fQx2xXa"
      },
      "source": [
        "# Get feature space by dropping useless feature\n",
        "to_drop = ['IAPV','Polymer','Salinity','Mole_Weight','Frr','Sor']\n",
        "X = ISG_df.drop(to_drop, axis=1)\n"
      ],
      "execution_count": null,
      "outputs": []
    },
    {
      "cell_type": "code",
      "source": [
        "to_drop2 = ['IAPV','Polymer','Salinity','Mole_Weight','Frr','Flow_Velocity','Sor']\n",
        "X_tilt = ISG_df.drop(to_drop2, axis=1)"
      ],
      "metadata": {
        "id": "Wy7e4Y6rdD3M"
      },
      "execution_count": null,
      "outputs": []
    },
    {
      "cell_type": "code",
      "metadata": {
        "id": "lZFFVHUgftso"
      },
      "source": [
        "X.head()"
      ],
      "execution_count": null,
      "outputs": []
    },
    {
      "cell_type": "code",
      "source": [
        "X_tilt.head()"
      ],
      "metadata": {
        "id": "boqrnsildSLj"
      },
      "execution_count": null,
      "outputs": []
    },
    {
      "cell_type": "code",
      "metadata": {
        "id": "i6WyuvNyxNeE"
      },
      "source": [
        "X.dtypes"
      ],
      "execution_count": null,
      "outputs": []
    },
    {
      "cell_type": "code",
      "source": [
        "X_tilt.dtypes"
      ],
      "metadata": {
        "id": "qmRtFr0tN8GS"
      },
      "execution_count": null,
      "outputs": []
    },
    {
      "cell_type": "code",
      "metadata": {
        "id": "QSna9_kTcDx8"
      },
      "source": [
        "cat_cols = X.columns[X.dtypes == 'O']#categorical type is 0\n",
        "num_cols = X.columns[(X.dtypes == 'float64') | (X.dtypes == 'int64')]\n",
        "cat_cols_noq = X.columns[X.dtypes == 'O']#categorical type is 0\n",
        "num_cols_noq = X.columns[(X.dtypes == 'float64') | (X.dtypes == 'int64')]"
      ],
      "execution_count": null,
      "outputs": []
    },
    {
      "cell_type": "code",
      "metadata": {
        "id": "XVAaLjGsgCPq"
      },
      "source": [
        "num_cols"
      ],
      "execution_count": null,
      "outputs": []
    },
    {
      "cell_type": "code",
      "source": [
        "num_cols_noq"
      ],
      "metadata": {
        "id": "Z7RbaGOSOI5N"
      },
      "execution_count": null,
      "outputs": []
    },
    {
      "cell_type": "code",
      "metadata": {
        "id": "V784I6eGgAH4"
      },
      "source": [
        "cat_cols"
      ],
      "execution_count": null,
      "outputs": []
    },
    {
      "cell_type": "markdown",
      "metadata": {
        "id": "77OjmSl9i0Nf"
      },
      "source": [
        "#Split dataset\n",
        "#应该先分数据，再进行preprocessing，因为testing set数据尽量不要动\n"
      ]
    },
    {
      "cell_type": "code",
      "metadata": {
        "id": "3mYMbTgQ2qzx"
      },
      "source": [
        "# Objective: y is Treatment Result\n",
        "y=ISG_df['IAPV']"
      ],
      "execution_count": null,
      "outputs": []
    },
    {
      "cell_type": "code",
      "metadata": {
        "id": "Uay8Md5li0Nh"
      },
      "source": [
        "# Splite data into training and testing\n",
        "# 100 -> 75:y=1, 25:y=0\n",
        "# training(80): 60 y=1; 20 y=0 \n",
        "# testing(20):  15 y=1; 5 y=0\n",
        "\n",
        "from sklearn import model_selection\n",
        "\n",
        "# Reserve 25% for testing\n",
        "# stratify example:\n",
        "# 100 -> y: 80 '0', 20 '1' -> 4:1\n",
        "# 80% training 64: '0', 16:'1' -> 4:1\n",
        "# 20% testing  16:'0', 4: '1' -> 4:1\n",
        "X_train, X_test, y_train, y_test = model_selection.train_test_split(X, y, test_size=0.2, random_state=1) \n",
        "\n",
        "print('training data has ' + str(X_train.shape[0]) + ' observation with ' + str(X_train.shape[1]) + ' features')\n",
        "print('test data has ' + str(X_test.shape[0]) + ' observation with ' + str(X_test.shape[1]) + ' features')"
      ],
      "execution_count": null,
      "outputs": []
    },
    {
      "cell_type": "code",
      "source": [
        "# No flow rate\n",
        "X_train_noq, X_test_noq, y_train_noq, y_test_noq = model_selection.train_test_split(X_tilt, y, test_size=0.2, random_state=1) #stratify = y :=> stratified sampling 分层抽样 根据y的分类进行分层然后随机抽样\n",
        "\n",
        "print('training data has ' + str(X_train_noq.shape[0]) + ' observation with ' + str(X_train_noq.shape[1]) + ' features')\n",
        "print('test data has ' + str(X_test_noq.shape[0]) + ' observation with ' + str(X_test_noq.shape[1]) + ' features')"
      ],
      "metadata": {
        "id": "Nt6xpCwBQqDL"
      },
      "execution_count": null,
      "outputs": []
    },
    {
      "cell_type": "markdown",
      "metadata": {
        "id": "JMTIEpY7IfPp"
      },
      "source": [
        "Read more for handling [categorical feature](https://github.com/scikit-learn-contrib/categorical-encoding), and there is an awesome package for [encoding](http://contrib.scikit-learn.org/category_encoders/)."
      ]
    },
    {
      "cell_type": "code",
      "source": [
        "# One hot encoding(convert string to numbers)\n",
        "# another way: get_dummies\n",
        "from sklearn.preprocessing import OneHotEncoder\n",
        "\n",
        "def OneHotEncoding(df, enc, categories):  \n",
        "  transformed = pd.DataFrame(enc.transform(df[categories]).toarray(), columns=enc.get_feature_names(categories))\n",
        "  return pd.concat([df.reset_index(drop=True), transformed], axis=1).drop(categories, axis=1)\n",
        "\n",
        "categories = ['Sor']\n",
        "enc_ohe = OneHotEncoder()\n",
        "enc_ohe.fit(X_train[categories])\n",
        "#有时候test和train内的categories不同，如果先treat后分就会涉及到了test set所以要先分\n",
        "X_train = OneHotEncoding(X_train, enc_ohe, categories)\n",
        "X_test = OneHotEncoding(X_test, enc_ohe, categories)\n",
        "######################################################################################################\n"
      ],
      "metadata": {
        "id": "n-6_eSHiXt-g"
      },
      "execution_count": null,
      "outputs": []
    },
    {
      "cell_type": "code",
      "metadata": {
        "id": "apcEXk0Eh978"
      },
      "source": [
        "X_train.head()"
      ],
      "execution_count": null,
      "outputs": []
    },
    {
      "cell_type": "code",
      "source": [
        "categories = ['Sor']\n",
        "enc_ohe = OneHotEncoder()\n",
        "enc_ohe.fit(X_train_noq[categories])\n",
        "#有时候test和train内的categories不同，如果先treat后分就会涉及到了test set所以要先分\n",
        "X_train_noq = OneHotEncoding(X_train_noq, enc_ohe, categories)\n",
        "X_test_noq = OneHotEncoding(X_test_noq, enc_ohe, categories)\n",
        "######################################################################################################\n"
      ],
      "metadata": {
        "id": "EA8YALLLYbqz"
      },
      "execution_count": null,
      "outputs": []
    },
    {
      "cell_type": "code",
      "metadata": {
        "id": "txvvIi_Y1G1_"
      },
      "source": [
        "X_train_noq.head()"
      ],
      "execution_count": null,
      "outputs": []
    },
    {
      "cell_type": "markdown",
      "metadata": {
        "id": "vecyDzf8eXgg"
      },
      "source": [
        "Standardize/Normalize Data"
      ]
    },
    {
      "cell_type": "code",
      "source": [
        "# Save a copy of original dataset\n",
        "X_train_s=X_train\n",
        "X_train_noq_s=X_train_noq"
      ],
      "metadata": {
        "id": "uVvoTIL6k4tk"
      },
      "execution_count": null,
      "outputs": []
    },
    {
      "cell_type": "code",
      "metadata": {
        "id": "JuPhtUkJi0NW"
      },
      "source": [
        "# Scale the data, using standardization\n",
        "# standardization (x-mean)/std\n",
        "# normalization (x-x_min)/(x_max-x_min) ->[0,1]\n",
        "\n",
        "# 1. speed up gradient descent\n",
        "# 2. same scale\n",
        "# 3. algorithm requirments\n",
        "\n",
        "# for example, use training data to train the standardscaler to get mean and std \n",
        "# apply mean and std to both training and testing data.\n",
        "# fit_transform does the training and applying, transform only does applying.\n",
        "# Because we can't use any info from test, and we need to do the same modification\n",
        "# to testing data as well as training data\n",
        "\n",
        "# https://scikit-learn.org/stable/auto_examples/preprocessing/plot_all_scaling.html#sphx-glr-auto-examples-preprocessing-plot-all-scaling-py\n",
        "# https://scikit-learn.org/stable/modules/preprocessing.html\n",
        "\n",
        "\n",
        "# min-max example: (x-x_min)/(x_max-x_min)\n",
        "# [1,2,3,4,5,6,100] -> fit(min:1, max:6) (scalar.min = 1, scalar.max = 6) -> transform [(1-1)/(6-1),(2-1)/(6-1)..]\n",
        "# scalar.fit(train) -> min:1, max:100\n",
        "# scalar.transform(apply to x) -> apply min:1, max:100 to X_train\n",
        "# scalar.transform -> apply min:1, max:100 to X_test\n",
        "\n",
        "# scalar.fit -> mean:1, std:100\n",
        "# scalar.transform -> apply mean:1, std:100 to X_train\n",
        "# scalar.transform -> apply mean:1, std:100 to X_test\n",
        "\n",
        "from sklearn.preprocessing import StandardScaler\n",
        "scaler = StandardScaler()\n",
        "scaler.fit(X_train)\n",
        "X_train = scaler.transform(X_train)\n",
        "X_test = scaler.transform(X_test)"
      ],
      "execution_count": null,
      "outputs": []
    },
    {
      "cell_type": "code",
      "source": [
        "X_train"
      ],
      "metadata": {
        "id": "-vsunOfetK_6"
      },
      "execution_count": null,
      "outputs": []
    },
    {
      "cell_type": "code",
      "source": [
        "scaler.fit(X_train_noq)\n",
        "X_train_noq = scaler.transform(X_train_noq)\n",
        "X_test_noq = scaler.transform(X_test_noq)"
      ],
      "metadata": {
        "id": "lV98KBn3Yy79"
      },
      "execution_count": null,
      "outputs": []
    },
    {
      "cell_type": "markdown",
      "metadata": {
        "id": "q3x9ySX_i0Nd"
      },
      "source": [
        "# Part 3: Model Training and Result Evaluation"
      ]
    },
    {
      "cell_type": "markdown",
      "metadata": {
        "id": "c4UTtCQTi0Nl"
      },
      "source": [
        "### Part 3.1: Model Training"
      ]
    },
    {
      "cell_type": "code",
      "metadata": {
        "id": "zZDlNFfcZKcF"
      },
      "source": [
        "#@title build models\n",
        "from sklearn.ensemble import RandomForestRegressor\n",
        "from sklearn.neighbors import KNeighborsRegressor\n",
        "from sklearn.linear_model import LinearRegression\n",
        "\n",
        "# Logistic Regression\n",
        "regression_linear = LinearRegression()\n",
        "\n",
        "# K Nearest Neighbors\n",
        "regression_KNN = KNeighborsRegressor()\n",
        "\n",
        "# Random Forest\n",
        "regression_RF = RandomForestRegressor()"
      ],
      "execution_count": null,
      "outputs": []
    },
    {
      "cell_type": "code",
      "metadata": {
        "id": "iB5t11SPZKcJ"
      },
      "source": [
        "# Train the model\n",
        "r1=regression_linear.fit(X_train, y_train)\n",
        "\n",
        "coeff=r1.coef_\n",
        "varname=X_train_s.columns\n",
        "matrce=[coeff,varname]\n",
        "sns.barplot(x=coeff,y=varname,orient='horizontal')\n",
        "\n",
        "# Prediction of test data\n",
        "y1=r1.predict(X_test)\n",
        "# Accuracy of test data\n",
        "r1.score(X_test, y_test)"
      ],
      "execution_count": null,
      "outputs": []
    },
    {
      "cell_type": "code",
      "source": [
        "importances = regression_linear.feature_importances_\n",
        "\n",
        "indices = np.argsort(importances)[::-1]\n",
        "\n",
        "# Print the feature ranking\n",
        "print(\"Feature importance ranking by Linear Model:\")\n",
        "for ind in range(X.shape[1]):\n",
        "  print (\"{0} : {1}\".format(X_train_s.columns[indices[ind]],round(importances[indices[ind]], 4)))"
      ],
      "metadata": {
        "id": "DePdEsJZu6JZ"
      },
      "execution_count": null,
      "outputs": []
    },
    {
      "cell_type": "code",
      "source": [
        "# Train the model no flow rate\n",
        "r2=regression_linear.fit(X_train_noq, y_train_noq)\n",
        "coeff=r2.coef_\n",
        "varname=X_train_noq_s.columns\n",
        "matrce=[coeff,varname]\n",
        "sns.barplot(x=coeff,y=varname,orient='horizontal')\n",
        "# Prediction of test data\n",
        "y2=r2.predict(X_test_noq)\n",
        "\n",
        "r2.score(X_test_noq, y_test_noq)"
      ],
      "metadata": {
        "id": "Bija3zVll97q"
      },
      "execution_count": null,
      "outputs": []
    },
    {
      "cell_type": "code",
      "metadata": {
        "id": "OVoMOr45ZKcK"
      },
      "source": [
        "# Use 5-fold Cross Validation to get the accuracy for different models\n",
        "model_names = ['Regression_linear','KNN','Random Forest']\n",
        "model_list = [regression_linear, regression_KNN, regression_RF]\n",
        "count = 0\n",
        "\n",
        "for model in model_list:\n",
        "    cv_score = model_selection.cross_val_score(model, X_train, y_train, cv=5)\n",
        "    print(cv_score)\n",
        "    print('Model accuracy of ' + model_names[count] + ' is ' + str(cv_score.mean()))\n",
        "    count += 1"
      ],
      "execution_count": null,
      "outputs": []
    },
    {
      "cell_type": "code",
      "source": [
        "df.loc[df['column_name'] == some_value]"
      ],
      "metadata": {
        "id": "v7IameAO3jFy"
      },
      "execution_count": null,
      "outputs": []
    }
  ]
}